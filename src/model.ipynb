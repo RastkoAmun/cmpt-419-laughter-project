{
 "cells": [
  {
   "cell_type": "code",
   "execution_count": 1,
   "metadata": {},
   "outputs": [],
   "source": [
    "import pandas as pd\n",
    "import torch\n",
    "import torch.nn as nn\n",
    "from torch.utils.data import DataLoader\n",
    "\n",
    "from pathlib import Path\n",
    "from helpers.utils import LaughterDataset\n",
    "from sklearn.model_selection import train_test_split"
   ]
  },
  {
   "cell_type": "code",
   "execution_count": null,
   "metadata": {},
   "outputs": [],
   "source": [
    "# Load labels and add numerical mapping to laugh class\n",
    "labels = pd.read_csv('data/labels-2.csv')\n",
    "mappings = {'belly': 0, 'chuckle': 1, 'baby': 2} \n",
    "labels['laugh_numerical'] = labels['laugh_class'].map(mappings)\n",
    "labels"
   ]
  },
  {
   "cell_type": "code",
   "execution_count": null,
   "metadata": {},
   "outputs": [],
   "source": [
    "ROOT_PATH = Path('data/training-dataset-2')\n",
    "\n",
    "# Split between training (90%) and testing (10%) labels \n",
    "training_labels, testing_labels = train_test_split(labels, train_size=0.9, test_size=0.1)\n",
    "\n",
    "# This will return datasets splited between training and labels\n",
    "training_dataset = LaughterDataset(ROOT_PATH, labels=training_labels)\n",
    "testing_dataset = LaughterDataset(ROOT_PATH, labels=testing_labels)\n",
    "\n",
    "# Creating Dataloaders for Neural Network\n",
    "train_loader = DataLoader(training_dataset, batch_size=8, shuffle=True)\n",
    "test_loader = DataLoader(testing_dataset, batch_size=8, shuffle=False)"
   ]
  },
  {
   "cell_type": "code",
   "execution_count": null,
   "metadata": {},
   "outputs": [],
   "source": [
    "class LaughCNN(nn.Module):\n",
    "\tdef __init__(self):\n",
    "\t\tsuper(LaughCNN, self).__init__()\n",
    "\t\tself.conv = nn.Sequential(\n",
    "\t\t\tnn.Conv2d(1, 16, kernel_size=3, padding=1),\n",
    "\t\t\tnn.ReLU(),\n",
    "\t\t\tnn.MaxPool2d(2),\n",
    "\t\t\tnn.Conv2d(16, 32, kernel_size=3, padding=1),\n",
    "\t\t\tnn.ReLU(),\n",
    "\t\t\tnn.MaxPool2d(2)\n",
    "\t\t)\n",
    "\t\tself.fc = nn.Sequential(\n",
    "\t\t\tnn.Flatten(),\n",
    "\t\t\tnn.Linear(32 * 3 * 32, 64),\n",
    "\t\t\tnn.ReLU(),\n",
    "\t\t\tnn.Linear(64, 3)\n",
    "\t\t)\n",
    "\n",
    "\tdef forward(self, x):\n",
    "\t\tx = self.conv(x)\n",
    "\t\treturn self.fc(x)"
   ]
  },
  {
   "cell_type": "code",
   "execution_count": null,
   "metadata": {},
   "outputs": [],
   "source": [
    "model = LaughCNN()\n",
    "criterion = nn.CrossEntropyLoss()\n",
    "optimizer = torch.optim.Adam(model.parameters(), lr=0.001)\n",
    "\n",
    "for epoch in range(30):\n",
    "\tmodel.train()\n",
    "\trunning_loss = 0.0\n",
    "\tfor audio, _, _, numerical in train_loader:\n",
    "\t\t\toutputs = model(audio)\n",
    "\t\t\tloss = criterion(outputs, numerical)\n",
    "\n",
    "\t\t\toptimizer.zero_grad()\n",
    "\t\t\tloss.backward()\n",
    "\t\t\toptimizer.step()\n",
    "\t\t\trunning_loss += loss.item()\n",
    "\n",
    "\tprint(f\"Epoch {epoch+1}: Loss = {running_loss/len(train_loader):.4f}\")"
   ]
  },
  {
   "cell_type": "code",
   "execution_count": null,
   "metadata": {},
   "outputs": [],
   "source": [
    "from sklearn.metrics import classification_report, confusion_matrix\n",
    "import torch\n",
    "\n",
    "model.eval()\n",
    "preds, true_labels = [], []\n",
    "\n",
    "with torch.no_grad():\n",
    "\t\tfor audio, audio_id, _, numerical in test_loader:\n",
    "\t\t\t\toutputs = model(audio)\n",
    "\t\t\t\t_, predicted = torch.max(outputs, 1)\n",
    "\t\t\t\tpreds.extend(predicted.cpu().numpy())\n",
    "\t\t\t\ttrue_labels.extend(numerical.numpy())\n",
    "\t\t\t\tprint('Predicted: ', predicted)\n",
    "\t\t\t\tprint('True: ', numerical)\n",
    "\n",
    "# print(\"Classification Report:\")\n",
    "# print(classification_report(labels, preds, target_names=[\"chuckle\", \"baby\"]))\n",
    "# print(\"Confusion Matrix:\")\n",
    "# print(confusion_matrix(labels, preds))"
   ]
  }
 ],
 "metadata": {
  "kernelspec": {
   "display_name": "venv",
   "language": "python",
   "name": "python3"
  },
  "language_info": {
   "codemirror_mode": {
    "name": "ipython",
    "version": 3
   },
   "file_extension": ".py",
   "mimetype": "text/x-python",
   "name": "python",
   "nbconvert_exporter": "python",
   "pygments_lexer": "ipython3",
   "version": "3.12.7"
  }
 },
 "nbformat": 4,
 "nbformat_minor": 2
}
