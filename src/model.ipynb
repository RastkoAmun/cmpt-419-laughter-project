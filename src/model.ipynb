{
 "cells": [
  {
   "cell_type": "code",
   "execution_count": 115,
   "metadata": {},
   "outputs": [],
   "source": [
    "import pandas as pd\n",
    "import torch\n",
    "import torch.nn as nn\n",
    "from torch.utils.data import DataLoader\n",
    "\n",
    "from pathlib import Path\n",
    "from helpers.utils import LaughterDataset\n",
    "from sklearn.model_selection import train_test_split"
   ]
  },
  {
   "cell_type": "code",
   "execution_count": 116,
   "metadata": {},
   "outputs": [
    {
     "data": {
      "text/html": [
       "<div>\n",
       "<style scoped>\n",
       "    .dataframe tbody tr th:only-of-type {\n",
       "        vertical-align: middle;\n",
       "    }\n",
       "\n",
       "    .dataframe tbody tr th {\n",
       "        vertical-align: top;\n",
       "    }\n",
       "\n",
       "    .dataframe thead th {\n",
       "        text-align: right;\n",
       "    }\n",
       "</style>\n",
       "<table border=\"1\" class=\"dataframe\">\n",
       "  <thead>\n",
       "    <tr style=\"text-align: right;\">\n",
       "      <th></th>\n",
       "      <th>id</th>\n",
       "      <th>laugh_class</th>\n",
       "      <th>laugh_numerical</th>\n",
       "    </tr>\n",
       "  </thead>\n",
       "  <tbody>\n",
       "    <tr>\n",
       "      <th>0</th>\n",
       "      <td>1</td>\n",
       "      <td>chuckle</td>\n",
       "      <td>1</td>\n",
       "    </tr>\n",
       "    <tr>\n",
       "      <th>1</th>\n",
       "      <td>2</td>\n",
       "      <td>chuckle</td>\n",
       "      <td>1</td>\n",
       "    </tr>\n",
       "    <tr>\n",
       "      <th>2</th>\n",
       "      <td>3</td>\n",
       "      <td>chuckle</td>\n",
       "      <td>1</td>\n",
       "    </tr>\n",
       "    <tr>\n",
       "      <th>3</th>\n",
       "      <td>4</td>\n",
       "      <td>chuckle</td>\n",
       "      <td>1</td>\n",
       "    </tr>\n",
       "    <tr>\n",
       "      <th>4</th>\n",
       "      <td>5</td>\n",
       "      <td>chuckle</td>\n",
       "      <td>1</td>\n",
       "    </tr>\n",
       "    <tr>\n",
       "      <th>...</th>\n",
       "      <td>...</td>\n",
       "      <td>...</td>\n",
       "      <td>...</td>\n",
       "    </tr>\n",
       "    <tr>\n",
       "      <th>129</th>\n",
       "      <td>130</td>\n",
       "      <td>baby</td>\n",
       "      <td>2</td>\n",
       "    </tr>\n",
       "    <tr>\n",
       "      <th>130</th>\n",
       "      <td>131</td>\n",
       "      <td>baby</td>\n",
       "      <td>2</td>\n",
       "    </tr>\n",
       "    <tr>\n",
       "      <th>131</th>\n",
       "      <td>132</td>\n",
       "      <td>baby</td>\n",
       "      <td>2</td>\n",
       "    </tr>\n",
       "    <tr>\n",
       "      <th>132</th>\n",
       "      <td>133</td>\n",
       "      <td>baby</td>\n",
       "      <td>2</td>\n",
       "    </tr>\n",
       "    <tr>\n",
       "      <th>133</th>\n",
       "      <td>134</td>\n",
       "      <td>baby</td>\n",
       "      <td>2</td>\n",
       "    </tr>\n",
       "  </tbody>\n",
       "</table>\n",
       "<p>134 rows × 3 columns</p>\n",
       "</div>"
      ],
      "text/plain": [
       "      id laugh_class  laugh_numerical\n",
       "0      1     chuckle                1\n",
       "1      2     chuckle                1\n",
       "2      3     chuckle                1\n",
       "3      4     chuckle                1\n",
       "4      5     chuckle                1\n",
       "..   ...         ...              ...\n",
       "129  130        baby                2\n",
       "130  131        baby                2\n",
       "131  132        baby                2\n",
       "132  133        baby                2\n",
       "133  134        baby                2\n",
       "\n",
       "[134 rows x 3 columns]"
      ]
     },
     "execution_count": 116,
     "metadata": {},
     "output_type": "execute_result"
    }
   ],
   "source": [
    "# Load labels and add numerical mapping to laugh class\n",
    "labels = pd.read_csv('data/labels-2.csv')\n",
    "mappings = {'belly': 0, 'chuckle': 1, 'baby': 2} \n",
    "labels['laugh_numerical'] = labels['laugh_class'].map(mappings)\n",
    "labels"
   ]
  },
  {
   "cell_type": "code",
   "execution_count": 117,
   "metadata": {},
   "outputs": [],
   "source": [
    "ROOT_PATH = Path('data/training-dataset-2')\n",
    "\n",
    "# Split between training (90%) and testing (10%) labels \n",
    "training_labels, testing_labels = train_test_split(labels, train_size=0.8, test_size=0.2)\n",
    "\n",
    "# This will return datasets splited between training and labels\n",
    "training_dataset = LaughterDataset(ROOT_PATH, labels=training_labels)\n",
    "testing_dataset = LaughterDataset(ROOT_PATH, labels=testing_labels)\n",
    "\n",
    "# Creating Dataloaders for Neural Network\n",
    "train_loader = DataLoader(training_dataset, batch_size=8, shuffle=True)\n",
    "test_loader = DataLoader(testing_dataset, batch_size=8, shuffle=False)"
   ]
  },
  {
   "cell_type": "code",
   "execution_count": 118,
   "metadata": {},
   "outputs": [],
   "source": [
    "class LaughCNN(nn.Module):\n",
    "\tdef __init__(self):\n",
    "\t\tsuper(LaughCNN, self).__init__()\n",
    "\t\tself.conv = nn.Sequential(\n",
    "\t\t\tnn.Conv2d(1, 16, kernel_size=3, padding=1),\n",
    "\t\t\tnn.ReLU(),\n",
    "\t\t\tnn.MaxPool2d(2),\n",
    "\t\t\tnn.Conv2d(16, 32, kernel_size=3, padding=1),\n",
    "\t\t\tnn.ReLU(),\n",
    "\t\t\tnn.MaxPool2d(2)\n",
    "\t\t)\n",
    "\t\tself.fc = nn.Sequential(\n",
    "\t\t\tnn.Flatten(),\n",
    "\t\t\tnn.Linear(32 * 3 * 32, 64),\n",
    "\t\t\tnn.ReLU(),\n",
    "\t\t\tnn.Linear(64, 3)\n",
    "\t\t)\n",
    "\n",
    "\tdef forward(self, x):\n",
    "\t\tx = self.conv(x)\n",
    "\t\treturn self.fc(x)"
   ]
  },
  {
   "cell_type": "code",
   "execution_count": 119,
   "metadata": {},
   "outputs": [
    {
     "name": "stdout",
     "output_type": "stream",
     "text": [
      "Epoch 1: Loss = 4.3346\n",
      "Epoch 2: Loss = 1.1936\n",
      "Epoch 3: Loss = 0.3747\n",
      "Epoch 4: Loss = 0.1052\n",
      "Epoch 5: Loss = 0.0380\n",
      "Epoch 6: Loss = 0.0151\n",
      "Epoch 7: Loss = 0.0097\n",
      "Epoch 8: Loss = 0.0036\n",
      "Epoch 9: Loss = 0.0022\n",
      "Epoch 10: Loss = 0.0016\n",
      "Epoch 11: Loss = 0.0014\n",
      "Epoch 12: Loss = 0.0010\n",
      "Epoch 13: Loss = 0.0008\n",
      "Epoch 14: Loss = 0.0007\n",
      "Epoch 15: Loss = 0.0006\n",
      "Epoch 16: Loss = 0.0005\n",
      "Epoch 17: Loss = 0.0004\n",
      "Epoch 18: Loss = 0.0004\n",
      "Epoch 19: Loss = 0.0004\n",
      "Epoch 20: Loss = 0.0003\n"
     ]
    }
   ],
   "source": [
    "model = LaughCNN()\n",
    "criterion = nn.CrossEntropyLoss()\n",
    "optimizer = torch.optim.Adam(model.parameters(), lr=0.001)\n",
    "\n",
    "for epoch in range(20):\n",
    "\tmodel.train()\n",
    "\trunning_loss = 0.0\n",
    "\tfor audio, _, _, numerical in train_loader:\n",
    "\t\t\toutputs = model(audio)\n",
    "\t\t\tloss = criterion(outputs, numerical)\n",
    "\n",
    "\t\t\toptimizer.zero_grad()\n",
    "\t\t\tloss.backward()\n",
    "\t\t\toptimizer.step()\n",
    "\t\t\trunning_loss += loss.item()\n",
    "\n",
    "\tprint(f\"Epoch {epoch+1}: Loss = {running_loss/len(train_loader):.4f}\")"
   ]
  },
  {
   "cell_type": "code",
   "execution_count": 120,
   "metadata": {},
   "outputs": [
    {
     "name": "stdout",
     "output_type": "stream",
     "text": [
      " Predicted: [2, 2, 2, 1, 1, 1, 2, 1, 2, 1, 1, 2, 1, 2, 2, 2, 1, 1, 2, 2, 2, 1, 1, 2, 2, 1, 2]\n",
      "      True: [2, 2, 2, 1, 1, 1, 2, 2, 2, 1, 1, 2, 2, 2, 1, 2, 1, 1, 2, 2, 2, 1, 2, 2, 2, 1, 2]\n"
     ]
    }
   ],
   "source": [
    "from sklearn.metrics import classification_report, confusion_matrix\n",
    "import torch\n",
    "\n",
    "model.eval()\n",
    "predictions, true_labels = [], []\n",
    "\n",
    "with torch.no_grad():\n",
    "\t\tfor audio, audio_id, _, numerical in test_loader:\n",
    "\t\t\t\toutputs = model(audio)\n",
    "\t\t\t\t_, predicted = torch.max(outputs, 1)\n",
    "\t\t\t\tpredictions.extend(p.item() for p in predicted)\n",
    "\t\t\t\ttrue_labels.extend(n.item() for n in numerical)\n",
    "\t\t\t\t\n",
    "print(f'{'Predicted':>{10}}: {predictions}')\n",
    "print(f'{'True':>{10}}: {true_labels:}')\n",
    "\n",
    "# print(\"Classification Report:\")\n",
    "# print(classification_report(labels, preds, target_names=[\"chuckle\", \"baby\"]))\n",
    "# print(\"Confusion Matrix:\")\n",
    "# print(confusion_matrix(labels, preds))"
   ]
  },
  {
   "cell_type": "code",
   "execution_count": 121,
   "metadata": {},
   "outputs": [
    {
     "name": "stdout",
     "output_type": "stream",
     "text": [
      "0.8518518518518519\n",
      "0.9\n",
      "0.75\n",
      "0.8181818181818182\n",
      "Confusion Matrix:\n",
      "[[ 9  1]\n",
      " [ 3 14]]\n"
     ]
    }
   ],
   "source": [
    "from sklearn.metrics import accuracy_score, precision_score, recall_score, f1_score\n",
    "accuraccy = accuracy_score(predictions, true_labels)\n",
    "precision = precision_score(predictions, true_labels)\n",
    "recall = recall_score(predictions, true_labels)\n",
    "F1_score = f1_score(predictions, true_labels)\n",
    "print(accuraccy)\n",
    "print(precision)\n",
    "print(recall)\n",
    "print(F1_score)\n",
    "\n",
    "cm = confusion_matrix(y_true=true_labels, y_pred=predictions)\n",
    "\n",
    "from sklearn.metrics import classification_report, confusion_matrix\n",
    "# print(\"Classification Report:\")\n",
    "# print(classification_report(true_labels, predictions, target_names=[\"chuckle\", \"baby\"]))\n",
    "print(\"Confusion Matrix:\")\n",
    "print(confusion_matrix(true_labels, predictions))"
   ]
  },
  {
   "cell_type": "code",
   "execution_count": 125,
   "metadata": {},
   "outputs": [
    {
     "data": {
      "image/png": "[encoded data removed]",
      "text/plain": [
       "<Figure size 700x600 with 1 Axes>"
      ]
     },
     "metadata": {},
     "output_type": "display_data"
    }
   ],
   "source": [
    "import seaborn as sns\n",
    "import matplotlib.pyplot as plt\n",
    "\n",
    "tags = [\"chuckle\", \"baby\"]\n",
    "\n",
    "plt.figure(figsize=(7, 6))\n",
    "cmap = sns.color_palette(\"ch:s=.25,rot=-.25\", as_cmap=True)\n",
    "# cmpa sns.color_palette(\"light:#5A9\", as_cmap=True)\n",
    "\n",
    "ax = sns.heatmap(\n",
    "    cm,\n",
    "    annot=True,\n",
    "    fmt='d',\n",
    "    cmap=cmap,  # Better gradient\n",
    "    xticklabels=tags,\n",
    "    yticklabels=tags,\n",
    "    linewidths=1,\n",
    "    linecolor='white',\n",
    "    cbar=False,  # Optional: remove if you don't need the color bar\n",
    "    square=True\n",
    ")\n",
    "\n",
    "ax.set_xlabel(\"Predicted\", fontsize=14)\n",
    "ax.set_ylabel(\"True\", fontsize=14)\n",
    "ax.set_title(\"Confusion Matrix\", fontsize=16, weight='bold')\n",
    "\n",
    "plt.xticks(rotation=45)\n",
    "plt.yticks(rotation=45)\n",
    "plt.tight_layout()\n",
    "plt.show()\n"
   ]
  }
 ],
 "metadata": {
  "kernelspec": {
   "display_name": "venv",
   "language": "python",
   "name": "python3"
  },
  "language_info": {
   "codemirror_mode": {
    "name": "ipython",
    "version": 3
   },
   "file_extension": ".py",
   "mimetype": "text/x-python",
   "name": "python",
   "nbconvert_exporter": "python",
   "pygments_lexer": "ipython3",
   "version": "3.12.7"
  }
 },
 "nbformat": 4,
 "nbformat_minor": 2
}
